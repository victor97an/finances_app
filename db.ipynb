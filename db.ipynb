{
 "cells": [
  {
   "cell_type": "code",
   "execution_count": 29,
   "metadata": {},
   "outputs": [
    {
     "name": "stdout",
     "output_type": "stream",
     "text": [
      "2.6.0\n"
     ]
    }
   ],
   "source": [
    "import sqlite3\n",
    "from sqlite3 import Error\n",
    "\n",
    "def create_connection(db_file):\n",
    "    #create a database\n",
    "    conn = None\n",
    "    try:\n",
    "        conn = sqlite3.connect(db_file)\n",
    "        print(sqlite3.version)\n",
    "        \n",
    "    except Error as e:\n",
    "        print(e)\n",
    "    finally:\n",
    "        return conn\n",
    "\n",
    "def create_table(conn, create_table_sql):\n",
    "    #create a table\n",
    "    try:\n",
    "        c = conn.cursor()\n",
    "        c.execute(create_table_sql)\n",
    "    except Error as e:\n",
    "        print(e)\n",
    "        \n",
    "        \n",
    "def main():\n",
    "    database = 'investing.db'\n",
    "    \n",
    "    sql_create_stocks_table = \"\"\"CREATE TABLE IF NOT EXISTS stocks(\n",
    "                                    tick varchar(10) PRIMARY KEY,\n",
    "                                    name varchar(100) NOT NULL,\n",
    "                                    cotation real NOT NULL,\n",
    "                                    pricetobook real NOT NULL,\n",
    "                                    debtequity real NOT NULL,\n",
    "                                    cashshareratio real NOT NULL,\n",
    "                                    returnequity varchar(10) NOT NULL,\n",
    "                                    divyeld varchar(10) NOT NULL,\n",
    "                                    payout varchar(10) NOT NULL,\n",
    "                                    FOREIGN KEY (tick) REFERENCES stocks (tick)\n",
    "                                    );\"\"\"\n",
    "    \n",
    "    if conn is not None:\n",
    "        create_table(conn, sql_create_stocks_table)\n",
    "    else:\n",
    "        print(\"Erro: Não foi possível encontrar banco de dados\")\n",
    "\n",
    "if __name__=='__main__':\n",
    "    conn = create_connection('investing.db')\n",
    "    main()\n"
   ]
  },
  {
   "cell_type": "code",
   "execution_count": 13,
   "metadata": {},
   "outputs": [
    {
     "ename": "SyntaxError",
     "evalue": "invalid syntax (<ipython-input-13-87a517aa7c34>, line 1)",
     "output_type": "error",
     "traceback": [
      "\u001b[0;36m  File \u001b[0;32m\"<ipython-input-13-87a517aa7c34>\"\u001b[0;36m, line \u001b[0;32m1\u001b[0m\n\u001b[0;31m    sqlite3 ''/home/victor/Documentos/financeiro/investing.db'\u001b[0m\n\u001b[0m             ^\u001b[0m\n\u001b[0;31mSyntaxError\u001b[0m\u001b[0;31m:\u001b[0m invalid syntax\n"
     ]
    }
   ],
   "source": [
    "sqlite3 ''/home/victor/Documentos/financeiro/investing.db'"
   ]
  },
  {
   "cell_type": "code",
   "execution_count": null,
   "metadata": {},
   "outputs": [],
   "source": [
    "sq"
   ]
  }
 ],
 "metadata": {
  "kernelspec": {
   "display_name": "Python 3",
   "language": "python",
   "name": "python3"
  },
  "language_info": {
   "codemirror_mode": {
    "name": "ipython",
    "version": 3
   },
   "file_extension": ".py",
   "mimetype": "text/x-python",
   "name": "python",
   "nbconvert_exporter": "python",
   "pygments_lexer": "ipython3",
   "version": "3.6.8"
  }
 },
 "nbformat": 4,
 "nbformat_minor": 2
}
